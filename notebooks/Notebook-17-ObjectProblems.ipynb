{
 "cells": [
  {
   "cell_type": "markdown",
   "id": "f18b2b19-ff8b-4faa-a127-b733885e893e",
   "metadata": {},
   "source": [
    "# Object Problems\n",
    "1. Create a `Student` class based on the provided UML diagram:"
   ]
  },
  {
   "cell_type": "code",
   "execution_count": null,
   "id": "3aec19f6-bb92-48d5-a072-8c3826e5d5d3",
   "metadata": {},
   "outputs": [],
   "source": [
    "using System;\n",
    "\n",
    "namespace ConsoleApp5\n",
    "{\n",
    "    internal class Student\n",
    "    {\n",
    "        // instance fields\n",
    "        private string _firstName;\n",
    "        private string _lastName;\n",
    "        private int _idNumber;\n",
    "\n",
    "        // constructors\n",
    "        public Student()\n",
    "        {\n",
    "        }\n",
    "\n",
    "        public Student(string firstName, string lastName, int idNumber)\n",
    "        {\n",
    "            _firstName = firstName;\n",
    "            _lastName = lastName;\n",
    "            _idNumber = idNumber;\n",
    "        }\n",
    "\n",
    "        // Accessors\n",
    "        public string GetFirstName()\n",
    "        {\n",
    "            return _firstName;\n",
    "        }\n",
    "\n",
    "        public void SetFirstName(string firstName)\n",
    "        {\n",
    "            this._firstName = firstName;\n",
    "        }\n",
    "\n",
    "        public string GetLastName()\n",
    "        {\n",
    "            return _lastName;\n",
    "        }\n",
    "\n",
    "        public void SetLastName(string lastName)\n",
    "        {\n",
    "            this._lastName = lastName;\n",
    "        }\n",
    "\n",
    "        public int GetIdNumber()\n",
    "        {\n",
    "            return _idNumber;\n",
    "        }\n",
    "\n",
    "        public void SetIdNumber(int idNumber)\n",
    "        {\n",
    "            this._idNumber = idNumber;\n",
    "        }\n",
    "\n",
    "        // methods\n",
    "        public string GetFullName()\n",
    "        {\n",
    "            return String.Format($\"{_lastName}, {_firstName}\");\n",
    "        }\n",
    "    }\n",
    "}\n"
   ]
  },
  {
   "cell_type": "markdown",
   "id": "f29de72c-7964-489e-834f-7c3dd6c8b89b",
   "metadata": {},
   "source": [
    "The above example uses a fully implemented technique, but avoids the use of properties. You can still access the information with read and write access through the methods."
   ]
  }
 ],
 "metadata": {
  "kernelspec": {
   "display_name": ".NET (C#)",
   "language": "C#",
   "name": ".net-csharp"
  },
  "language_info": {
   "file_extension": ".cs",
   "mimetype": "text/x-csharp",
   "name": "C#",
   "pygments_lexer": "csharp",
   "version": "9.0"
  }
 },
 "nbformat": 4,
 "nbformat_minor": 5
}
