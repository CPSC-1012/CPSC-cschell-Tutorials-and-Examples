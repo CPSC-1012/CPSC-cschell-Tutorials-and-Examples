{
 "cells": [
  {
   "cell_type": "markdown",
   "id": "1724a826-6093-4153-af71-61fc3c5ab336",
   "metadata": {},
   "source": [
    "# Question 1\n",
    "* Write a program that displays the message with your name, your age, and your expected annual salary. Here is a sample run:\n",
    "\n",
    "`My name is Don Iveson, my age is 45 and I hope to earn $204,747.00 per year`\n",
    "\n",
    "----"
   ]
  },
  {
   "cell_type": "code",
   "execution_count": 1,
   "id": "0d7611d7-2d22-40bc-9501-014999394a24",
   "metadata": {},
   "outputs": [
    {
     "data": {
      "text/html": [
       "\r\n",
       "<div>\r\n",
       "    <div id='dotnet-interactive-this-cell-12458.Microsoft.DotNet.Interactive.Http.HttpPort' style='display: none'>\r\n",
       "        The below script needs to be able to find the current output cell; this is an easy method to get it.\r\n",
       "    </div>\r\n",
       "    <script type='text/javascript'>\r\n",
       "async function probeAddresses(probingAddresses) {\r\n",
       "    function timeout(ms, promise) {\r\n",
       "        return new Promise(function (resolve, reject) {\r\n",
       "            setTimeout(function () {\r\n",
       "                reject(new Error('timeout'))\r\n",
       "            }, ms)\r\n",
       "            promise.then(resolve, reject)\r\n",
       "        })\r\n",
       "    }\r\n",
       "\r\n",
       "    if (Array.isArray(probingAddresses)) {\r\n",
       "        for (let i = 0; i < probingAddresses.length; i++) {\r\n",
       "\r\n",
       "            let rootUrl = probingAddresses[i];\r\n",
       "\r\n",
       "            if (!rootUrl.endsWith('/')) {\r\n",
       "                rootUrl = `${rootUrl}/`;\r\n",
       "            }\r\n",
       "\r\n",
       "            try {\r\n",
       "                let response = await timeout(1000, fetch(`${rootUrl}discovery`, {\r\n",
       "                    method: 'POST',\r\n",
       "                    cache: 'no-cache',\r\n",
       "                    mode: 'cors',\r\n",
       "                    timeout: 1000,\r\n",
       "                    headers: {\r\n",
       "                        'Content-Type': 'text/plain'\r\n",
       "                    },\r\n",
       "                    body: probingAddresses[i]\r\n",
       "                }));\r\n",
       "\r\n",
       "                if (response.status == 200) {\r\n",
       "                    return rootUrl;\r\n",
       "                }\r\n",
       "            }\r\n",
       "            catch (e) { }\r\n",
       "        }\r\n",
       "    }\r\n",
       "}\r\n",
       "\r\n",
       "function loadDotnetInteractiveApi() {\r\n",
       "    probeAddresses([\"http://192.168.1.83:1025/\", \"http://192.168.1.89:1025/\", \"http://127.0.0.1:1025/\"])\r\n",
       "        .then((root) => {\r\n",
       "        // use probing to find host url and api resources\r\n",
       "        // load interactive helpers and language services\r\n",
       "        let dotnetInteractiveRequire = require.config({\r\n",
       "        context: '12458.Microsoft.DotNet.Interactive.Http.HttpPort',\r\n",
       "                paths:\r\n",
       "            {\r\n",
       "                'dotnet-interactive': `${root}resources`\r\n",
       "                }\r\n",
       "        }) || require;\r\n",
       "\r\n",
       "            window.dotnetInteractiveRequire = dotnetInteractiveRequire;\r\n",
       "\r\n",
       "            window.configureRequireFromExtension = function(extensionName, extensionCacheBuster) {\r\n",
       "                let paths = {};\r\n",
       "                paths[extensionName] = `${root}extensions/${extensionName}/resources/`;\r\n",
       "                \r\n",
       "                let internalRequire = require.config({\r\n",
       "                    context: extensionCacheBuster,\r\n",
       "                    paths: paths,\r\n",
       "                    urlArgs: `cacheBuster=${extensionCacheBuster}`\r\n",
       "                    }) || require;\r\n",
       "\r\n",
       "                return internalRequire\r\n",
       "            };\r\n",
       "        \r\n",
       "            dotnetInteractiveRequire([\r\n",
       "                    'dotnet-interactive/dotnet-interactive'\r\n",
       "                ],\r\n",
       "                function (dotnet) {\r\n",
       "                    dotnet.init(window);\r\n",
       "                },\r\n",
       "                function (error) {\r\n",
       "                    console.log(error);\r\n",
       "                }\r\n",
       "            );\r\n",
       "        })\r\n",
       "        .catch(error => {console.log(error);});\r\n",
       "    }\r\n",
       "\r\n",
       "// ensure `require` is available globally\r\n",
       "if ((typeof(require) !==  typeof(Function)) || (typeof(require.config) !== typeof(Function))) {\r\n",
       "    let require_script = document.createElement('script');\r\n",
       "    require_script.setAttribute('src', 'https://cdnjs.cloudflare.com/ajax/libs/require.js/2.3.6/require.min.js');\r\n",
       "    require_script.setAttribute('type', 'text/javascript');\r\n",
       "    \r\n",
       "    \r\n",
       "    require_script.onload = function() {\r\n",
       "        loadDotnetInteractiveApi();\r\n",
       "    };\r\n",
       "\r\n",
       "    document.getElementsByTagName('head')[0].appendChild(require_script);\r\n",
       "}\r\n",
       "else {\r\n",
       "    loadDotnetInteractiveApi();\r\n",
       "}\r\n",
       "\r\n",
       "    </script>\r\n",
       "</div>"
      ]
     },
     "metadata": {},
     "output_type": "display_data"
    },
    {
     "name": "stdout",
     "output_type": "stream",
     "text": [
      "My name is Don Iveson, my age is 45 and I hope to earn $204,747.00 per year\n"
     ]
    }
   ],
   "source": [
    "Console.WriteLine(\"My name is Don Iveson, my age is 45 and I hope to earn $204,747.00 per year\");"
   ]
  },
  {
   "cell_type": "markdown",
   "id": "34e0618c-e573-4b30-be85-390140b60f24",
   "metadata": {},
   "source": [
    "### Modify the program to declares the following:\n",
    "* A String variable named `name`\n",
    "* An int variable named `age`\n",
    "* A double variable named `annualPay`\n",
    "Store your `age`, `name`, and desired annual income (`annualPay`) as literals in these variables. The program should display\n",
    "these values on the screen in a manner similar to the following:\n",
    "\n",
    "`My name is Rachel Notely, my age is 53 and I hope to earn $133,404.00 per year`\n",
    "\n",
    "----"
   ]
  },
  {
   "cell_type": "code",
   "execution_count": 2,
   "id": "f1531ee4-fe1a-4a39-8901-29649eee3416",
   "metadata": {},
   "outputs": [
    {
     "name": "stdout",
     "output_type": "stream",
     "text": [
      "My name is Rachel Notely, my age is 53 and I hope to earn $133,404.00 per year\n"
     ]
    }
   ],
   "source": [
    "string name = \"Rachel Notely\";\n",
    "int age = 53;\n",
    "double annualPay = 133404;\n",
    "\n",
    "Console.WriteLine($\"My name is {name}, my age is {age} and I hope to earn {annualPay:C} per year\");"
   ]
  },
  {
   "cell_type": "markdown",
   "id": "28625226-bf91-4a07-a4c0-f4a72fdd69c9",
   "metadata": {},
   "source": [
    "### Modify the program to prompt the user to enter their name, age, and annual pay. Here is a sample run:\n",
    "\n",
    "```\n",
    "Enter your name:\n",
    "Justin Trudeau\n",
    "Enter your age:\n",
    "45\n",
    "Enter your annual salary:\n",
    "345400\n",
    "My name is Justin Trudeau, my age is 45 and I hope to earn $345,400.00 per year\n",
    "```\n",
    "\n",
    "----"
   ]
  },
  {
   "cell_type": "code",
   "execution_count": 5,
   "id": "f1e2cadf-5633-4fa4-a5c3-27f8d7b5bc13",
   "metadata": {},
   "outputs": [
    {
     "name": "stdout",
     "output_type": "stream",
     "text": [
      "Please enter your name:\n",
      "Please enter your age:\n",
      "Please enter your expected annual pay:\n",
      "My name is Justin Trudeau, my age is 45 and I hope to earn $345,400.00 per year\n"
     ]
    }
   ],
   "source": [
    "string name;\n",
    "Console.WriteLine(\"Please enter your name:\");\n",
    "// name = Console.Readline();\n",
    "name = \"Justin Trudeau\";\n",
    "\n",
    "int age;\n",
    "Console.WriteLine(\"Please enter your age:\");\n",
    "// age = int.Parse(Console.Readline());\n",
    "age = 45;\n",
    "\n",
    "double annualPay;\n",
    "Console.WriteLine(\"Please enter your expected annual pay:\");\n",
    "// annualPay = double.Parse(Console.Readline());\n",
    "annualPay = 345400;\n",
    "\n",
    "Console.WriteLine($\"My name is {name}, my age is {age} and I hope to earn {annualPay:C} per year\");"
   ]
  },
  {
   "cell_type": "markdown",
   "id": "5286f90c-2164-4518-8af8-7c46b2fac9e6",
   "metadata": {},
   "source": [
    "# Question 2\n",
    "* Write a program that reads in the radius and height of a cylinder and computes the area and volume using the formulas:\n",
    "\n",
    "### Area of a cylinder:\n",
    "\n",
    "$$ A = 2\\pi r h + 2\\pi r^{2} $$\n",
    "\n",
    "_Where A = the area, r = the radius, and h = the height_\n",
    "\n",
    "----\n",
    "\n",
    "### Volume of a cylinder\n",
    "\n",
    "$$ V = \\pi r^{2} h $$\n",
    "\n",
    "_Where V = the volume, r = the radius, and h = the height_\n",
    "\n",
    "----\n",
    "\n",
    "Here is a sample run:\n",
    "```\n",
    "Enter the radius and length of a cylinder in cm:\n",
    "5.5\n",
    "12\n",
    "The area is 604.8 cm^2\n",
    "The volume is 1140.4 cm^3\n",
    "```"
   ]
  },
  {
   "cell_type": "code",
   "execution_count": 7,
   "id": "195a328c-d367-40ae-93c3-e214ead9a352",
   "metadata": {},
   "outputs": [
    {
     "name": "stdout",
     "output_type": "stream",
     "text": [
      "The area is 604.8 cm^2\n",
      "The volume is 1,140.4 cm^3\n"
     ]
    }
   ],
   "source": [
    "double radius, height;\n",
    "double volume, area;\n",
    "\n",
    "/*\n",
    "Console.WriteLine(\"Please enter the radius of the cylinder in cm:\");\n",
    "radius = double.Parse(Console.ReadLine());\n",
    "Console.WriteLine(\"Please enter the height of the cylinder in cm:\");\n",
    "height = double.Parse(Console.ReadLine());\n",
    "*/\n",
    "\n",
    "radius = 5.5;\n",
    "height = 12;\n",
    "\n",
    "area = 2 * Math.PI * radius * height + 2 * Math.PI * Math.Pow(radius, 2);\n",
    "volume = Math.PI * Math.Pow(radius, 2) * height;\n",
    "\n",
    "Console.WriteLine($\"The area is {area:N1} cm^2\");\n",
    "Console.WriteLine($\"The volume is {volume:N1} cm^3\");"
   ]
  },
  {
   "cell_type": "markdown",
   "id": "2355c355-7886-4635-bbce-b116e7ed6f7c",
   "metadata": {},
   "source": [
    "# Question 3\n",
    "* Write a program that prompts the user to enter the side of a hexagon and displays its area. The formula for computing the area of a hexagon is:\n",
    "\n",
    "$$ A = \\frac{3 \\sqrt{3}}{2}s^{2} $$\n",
    "\n",
    "_Where s is the length of the side. Here is a sample run:_\n",
    "\n",
    "----\n",
    "\n",
    "```\n",
    "Enter the length of the side in cm:\n",
    "5.5\n",
    "The area of the hexagon is 78.59 cm^2\n",
    "```"
   ]
  },
  {
   "cell_type": "code",
   "execution_count": 9,
   "id": "e9c1632a-3807-475a-ae88-553f8909c151",
   "metadata": {},
   "outputs": [
    {
     "name": "stdout",
     "output_type": "stream",
     "text": [
      "The area of the hexagon is 78.59 cm^2\n"
     ]
    }
   ],
   "source": [
    "double side;\n",
    "double area;\n",
    "\n",
    "/*\n",
    "Console.WriteLine(\"Please enter the length of one side for the \" +\n",
    "    \"hexagon in cm:\");\n",
    "side = double.Parse(Console.ReadLine());\n",
    "*/\n",
    "\n",
    "side = 5.5;\n",
    "\n",
    "area = (3 * Math.Sqrt(3)) / 2 * Math.Pow(side, 2);\n",
    "\n",
    "Console.WriteLine($\"The area of the hexagon is {area:N2} cm^2\");"
   ]
  },
  {
   "cell_type": "markdown",
   "id": "9d24f5e0-ae6f-4a62-8670-a2b127fab0fd",
   "metadata": {},
   "source": [
    "# Question 4\n",
    "* Write a program that reads an integer between 0 and 1000 and adds all the digits in the integer. For example, if an integer is 932, the sum of all its digits is 14.\n",
    "* Hint: Use the % operator to extract digits, and use the / operator to remove the extracted digit. For instance, 932 % 10 = 2 and 932 / 10 = 93. Here is a sample run:\n",
    "\n",
    "```\n",
    "Enter a number between 0 and 1000:\n",
    "999\n",
    "The sum of the digits is 27\n",
    "```"
   ]
  },
  {
   "cell_type": "code",
   "execution_count": 10,
   "id": "0bc6a0e0-9034-44f0-a03b-cd70ab3624fc",
   "metadata": {},
   "outputs": [
    {
     "name": "stdout",
     "output_type": "stream",
     "text": [
      "The sum of the digits in your number (658) is 6 + 5 + 8 = 19\n"
     ]
    }
   ],
   "source": [
    "/*\n",
    "Input:  int threeDigits\n",
    "\n",
    "Output: int sum\n",
    "\n",
    "Algorithm:  Prompt the user to enter a three digit whole number.\n",
    "            Use modulus operations to parse the number into the ones,\n",
    "            tens, and hundreds components. Then divide appropriately\n",
    "            to gain the sum of the individual digits.\n",
    "\n",
    "Modified Date:  Oct. 2 2021\n",
    "*/\n",
    "\n",
    "/*\n",
    "Console.WriteLine(\"Please enter a number between 0 and 1000 (e.g. 123)\");\n",
    "threeDigits = int.Parse(Console.ReadLine());\n",
    "*/\n",
    "\n",
    "int threeDigits = 658;\n",
    "\n",
    "int onesPlace = threeDigits % 10;\n",
    "int tensPlace = threeDigits % 100 - onesPlace;\n",
    "int hundredsPlace = threeDigits - tensPlace - onesPlace;\n",
    "int sum = onesPlace + tensPlace / 10 + hundredsPlace / 100;\n",
    "\n",
    "Console.WriteLine($\"The sum of the digits in your number ({threeDigits}) \" +\n",
    "    $\"is {hundredsPlace / 100} + {tensPlace / 10 } + {onesPlace} = \" +\n",
    "    $\"{sum}\");"
   ]
  },
  {
   "cell_type": "markdown",
   "id": "9e863f18-68ef-404e-96b8-cac33b52c281",
   "metadata": {},
   "source": [
    "#### Alternatively:\n",
    "\n",
    "----"
   ]
  },
  {
   "cell_type": "code",
   "execution_count": 11,
   "id": "bfd2a18e-86d7-444d-af06-1d5c3dd41e28",
   "metadata": {},
   "outputs": [
    {
     "name": "stdout",
     "output_type": "stream",
     "text": [
      "The sum of the digits in your number (658) is 6 + 5 + 8 = 19\n"
     ]
    }
   ],
   "source": [
    "int threeDigits = 658;\n",
    "\n",
    "if (threeDigits > 0 && threeDigits < 1000)\n",
    "{\n",
    "    int onesPlace = threeDigits % 10;\n",
    "    int tensPlace = threeDigits % 100 - onesPlace;\n",
    "    int hundredsPlace = threeDigits - tensPlace - onesPlace;\n",
    "    int sum = onesPlace + tensPlace / 10 + hundredsPlace / 100;\n",
    "\n",
    "    Console.WriteLine($\"The sum of the digits in your number ({threeDigits}) \" +\n",
    "        $\"is {hundredsPlace / 100} + {tensPlace / 10 } + {onesPlace} = \" +\n",
    "        $\"{sum}\");\n",
    "}\n",
    "else\n",
    "{\n",
    "    Console.WriteLine(\"That number is not in the correct range. \" +\n",
    "        \"Please run the program again.\");\n",
    "}"
   ]
  },
  {
   "cell_type": "code",
   "execution_count": 12,
   "id": "c48c24ac-3f4e-4e92-9351-6880269be3d4",
   "metadata": {},
   "outputs": [
    {
     "name": "stdout",
     "output_type": "stream",
     "text": [
      "That number is not in the correct range. Please run the program again.\n"
     ]
    }
   ],
   "source": [
    "int threeDigits = 1235;\n",
    "\n",
    "if (threeDigits > 0 && threeDigits < 1000)\n",
    "{\n",
    "    int onesPlace = threeDigits % 10;\n",
    "    int tensPlace = threeDigits % 100 - onesPlace;\n",
    "    int hundredsPlace = threeDigits - tensPlace - onesPlace;\n",
    "    int sum = onesPlace + tensPlace / 10 + hundredsPlace / 100;\n",
    "\n",
    "    Console.WriteLine($\"The sum of the digits in your number ({threeDigits}) \" +\n",
    "        $\"is {hundredsPlace / 100} + {tensPlace / 10 } + {onesPlace} = \" +\n",
    "        $\"{sum}\");\n",
    "}\n",
    "else\n",
    "{\n",
    "    Console.WriteLine(\"That number is not in the correct range. \" +\n",
    "        \"Please run the program again.\");\n",
    "}"
   ]
  },
  {
   "cell_type": "markdown",
   "id": "2fdcfd49-c788-45d2-bd6f-0983de97c876",
   "metadata": {},
   "source": [
    "#### Alternatively:\n",
    "\n",
    "Run in VS for interactivity\n",
    "\n",
    "----"
   ]
  },
  {
   "cell_type": "code",
   "execution_count": 13,
   "id": "6cb3bcec-285e-4e3a-872d-cef590781fa7",
   "metadata": {},
   "outputs": [],
   "source": [
    "/*\n",
    "int threeDigits;\n",
    "Console.WriteLine(\"Please enter a number between 0 and 1000 (e.g. 123)\");\n",
    "threeDigits = int.Parse(Console.ReadLine());\n",
    "\n",
    "while (!(threeDigits > 0 && threeDigits < 1000))\n",
    "{\n",
    "    Console.WriteLine(\"That number is not in the correct range. \" +\n",
    "        \"Please try again.\");\n",
    "    Console.WriteLine(\"Please enter a number between 0 and 1000 (e.g. 123)\");\n",
    "    threeDigits = int.Parse(Console.ReadLine());\n",
    "}\n",
    "\n",
    "int onesPlace = threeDigits % 10;\n",
    "int tensPlace = threeDigits % 100 - onesPlace;\n",
    "int hundredsPlace = threeDigits - tensPlace - onesPlace;\n",
    "int sum = onesPlace + tensPlace / 10 + hundredsPlace / 100;\n",
    "\n",
    "Console.WriteLine($\"The sum of the digits in your number ({threeDigits}) \" +\n",
    "    $\"is {hundredsPlace / 100} + {tensPlace / 10 } + {onesPlace} = \" +\n",
    "    $\"{sum}\");  \n",
    "*/"
   ]
  },
  {
   "cell_type": "markdown",
   "id": "ffbbef11-546e-46b2-866e-2211a211e4c1",
   "metadata": {},
   "source": [
    "# Question 5\n",
    "\n",
    "* If you know the balance and the annual percentage interest rate, you can compute the interest on the next\n",
    "monthly payment using the following formula:\n",
    "\n",
    "$$ futureInvestmentValue = investmentAmount * (1 + monthlyInterestRate)^{numberOfYears*12} $$\n",
    "\n",
    "_Where monthlyInterestRate is (annualInterestRate / 12 / 100)._\n",
    "\n",
    "\n",
    "For example, if you enter an amount 1000, annual interest rate 3.25%, and number of years 1, the future\n",
    "investment value is 1,032.98.\n",
    "\n",
    "Here is a sample run:\n",
    "\n",
    "```\n",
    "Enter investment amount:\n",
    "1000.56\n",
    "Enter annual interest rate in percentage:\n",
    "4.25\n",
    "Enter number of years: 1\n",
    "Future value is $1043.92\n",
    "```"
   ]
  },
  {
   "cell_type": "code",
   "execution_count": 14,
   "id": "9413a10f-5eb3-4362-8d44-e5c2823fc972",
   "metadata": {},
   "outputs": [
    {
     "name": "stdout",
     "output_type": "stream",
     "text": [
      "Future value is $1,043.92\n"
     ]
    }
   ],
   "source": [
    "double balance, annualInterestRate, monthlyInterestRate;\n",
    "int numberOfYears;\n",
    "double futureInvestmentValue;\n",
    "\n",
    "/*\n",
    "Console.WriteLine(\"Please enter your investment amount:\");\n",
    "balance = double.Parse(Console.ReadLine());\n",
    "Console.WriteLine(\"Please enter your annual interest rate (e.g. 4.25):\");\n",
    "annualInterestRate = double.Parse(Console.ReadLine());\n",
    "Console.WriteLine(\"Please enter the number of years:\");\n",
    "numberOfYears = int.Parse(Console.ReadLine());\n",
    "*/\n",
    "\n",
    "balance = 1000.56;\n",
    "annualInterestRate = 4.25;\n",
    "numberOfYears = 1;\n",
    "\n",
    "monthlyInterestRate = annualInterestRate / 12 / 100;\n",
    "\n",
    "futureInvestmentValue = balance * Math.Pow(1 + monthlyInterestRate, numberOfYears * 12);\n",
    "\n",
    "Console.WriteLine($\"Future value is {futureInvestmentValue:C}\");"
   ]
  },
  {
   "cell_type": "code",
   "execution_count": 1,
   "id": "91d7f75b-7371-44b9-9696-2ba569883b14",
   "metadata": {},
   "outputs": [
    {
     "data": {
      "text/html": [
       "\r\n",
       "<div>\r\n",
       "    <div id='dotnet-interactive-this-cell-3294.Microsoft.DotNet.Interactive.Http.HttpPort' style='display: none'>\r\n",
       "        The below script needs to be able to find the current output cell; this is an easy method to get it.\r\n",
       "    </div>\r\n",
       "    <script type='text/javascript'>\r\n",
       "async function probeAddresses(probingAddresses) {\r\n",
       "    function timeout(ms, promise) {\r\n",
       "        return new Promise(function (resolve, reject) {\r\n",
       "            setTimeout(function () {\r\n",
       "                reject(new Error('timeout'))\r\n",
       "            }, ms)\r\n",
       "            promise.then(resolve, reject)\r\n",
       "        })\r\n",
       "    }\r\n",
       "\r\n",
       "    if (Array.isArray(probingAddresses)) {\r\n",
       "        for (let i = 0; i < probingAddresses.length; i++) {\r\n",
       "\r\n",
       "            let rootUrl = probingAddresses[i];\r\n",
       "\r\n",
       "            if (!rootUrl.endsWith('/')) {\r\n",
       "                rootUrl = `${rootUrl}/`;\r\n",
       "            }\r\n",
       "\r\n",
       "            try {\r\n",
       "                let response = await timeout(1000, fetch(`${rootUrl}discovery`, {\r\n",
       "                    method: 'POST',\r\n",
       "                    cache: 'no-cache',\r\n",
       "                    mode: 'cors',\r\n",
       "                    timeout: 1000,\r\n",
       "                    headers: {\r\n",
       "                        'Content-Type': 'text/plain'\r\n",
       "                    },\r\n",
       "                    body: probingAddresses[i]\r\n",
       "                }));\r\n",
       "\r\n",
       "                if (response.status == 200) {\r\n",
       "                    return rootUrl;\r\n",
       "                }\r\n",
       "            }\r\n",
       "            catch (e) { }\r\n",
       "        }\r\n",
       "    }\r\n",
       "}\r\n",
       "\r\n",
       "function loadDotnetInteractiveApi() {\r\n",
       "    probeAddresses([\"http://192.168.1.83:1024/\", \"http://192.168.1.89:1024/\", \"http://127.0.0.1:1024/\"])\r\n",
       "        .then((root) => {\r\n",
       "        // use probing to find host url and api resources\r\n",
       "        // load interactive helpers and language services\r\n",
       "        let dotnetInteractiveRequire = require.config({\r\n",
       "        context: '3294.Microsoft.DotNet.Interactive.Http.HttpPort',\r\n",
       "                paths:\r\n",
       "            {\r\n",
       "                'dotnet-interactive': `${root}resources`\r\n",
       "                }\r\n",
       "        }) || require;\r\n",
       "\r\n",
       "            window.dotnetInteractiveRequire = dotnetInteractiveRequire;\r\n",
       "\r\n",
       "            window.configureRequireFromExtension = function(extensionName, extensionCacheBuster) {\r\n",
       "                let paths = {};\r\n",
       "                paths[extensionName] = `${root}extensions/${extensionName}/resources/`;\r\n",
       "                \r\n",
       "                let internalRequire = require.config({\r\n",
       "                    context: extensionCacheBuster,\r\n",
       "                    paths: paths,\r\n",
       "                    urlArgs: `cacheBuster=${extensionCacheBuster}`\r\n",
       "                    }) || require;\r\n",
       "\r\n",
       "                return internalRequire\r\n",
       "            };\r\n",
       "        \r\n",
       "            dotnetInteractiveRequire([\r\n",
       "                    'dotnet-interactive/dotnet-interactive'\r\n",
       "                ],\r\n",
       "                function (dotnet) {\r\n",
       "                    dotnet.init(window);\r\n",
       "                },\r\n",
       "                function (error) {\r\n",
       "                    console.log(error);\r\n",
       "                }\r\n",
       "            );\r\n",
       "        })\r\n",
       "        .catch(error => {console.log(error);});\r\n",
       "    }\r\n",
       "\r\n",
       "// ensure `require` is available globally\r\n",
       "if ((typeof(require) !==  typeof(Function)) || (typeof(require.config) !== typeof(Function))) {\r\n",
       "    let require_script = document.createElement('script');\r\n",
       "    require_script.setAttribute('src', 'https://cdnjs.cloudflare.com/ajax/libs/require.js/2.3.6/require.min.js');\r\n",
       "    require_script.setAttribute('type', 'text/javascript');\r\n",
       "    \r\n",
       "    \r\n",
       "    require_script.onload = function() {\r\n",
       "        loadDotnetInteractiveApi();\r\n",
       "    };\r\n",
       "\r\n",
       "    document.getElementsByTagName('head')[0].appendChild(require_script);\r\n",
       "}\r\n",
       "else {\r\n",
       "    loadDotnetInteractiveApi();\r\n",
       "}\r\n",
       "\r\n",
       "    </script>\r\n",
       "</div>"
      ]
     },
     "metadata": {},
     "output_type": "display_data"
    },
    {
     "name": "stdout",
     "output_type": "stream",
     "text": [
      "Hello World!\n"
     ]
    }
   ],
   "source": [
    "Console.WriteLine(\"Hello World!\");"
   ]
  },
  {
   "cell_type": "code",
   "execution_count": 2,
   "id": "d4fa8748-a961-4fab-9ccd-d334e7f68597",
   "metadata": {},
   "outputs": [
    {
     "name": "stdout",
     "output_type": "stream",
     "text": [
      "Hello World!\n"
     ]
    }
   ],
   "source": [
    "Console.WriteLine(\"Hello World!\");"
   ]
  },
  {
   "cell_type": "code",
   "execution_count": null,
   "id": "c75d9a3f-f454-44a2-9100-e5d529a48655",
   "metadata": {},
   "outputs": [],
   "source": []
  },
  {
   "cell_type": "code",
   "execution_count": null,
   "id": "87d80b08-7a64-4652-9016-b5598ce10fca",
   "metadata": {},
   "outputs": [],
   "source": []
  },
  {
   "cell_type": "code",
   "execution_count": null,
   "id": "2a0292f2-88e5-4a17-b84f-a7069c4dcd84",
   "metadata": {},
   "outputs": [],
   "source": []
  },
  {
   "cell_type": "code",
   "execution_count": null,
   "id": "def6c1a7-9b81-490e-9122-490d5d0ef7d1",
   "metadata": {},
   "outputs": [],
   "source": []
  },
  {
   "cell_type": "code",
   "execution_count": null,
   "id": "03115f3c-1b89-4451-972d-fc1c40edd5dc",
   "metadata": {},
   "outputs": [],
   "source": []
  },
  {
   "cell_type": "code",
   "execution_count": null,
   "id": "4a18bb9e-68fe-4878-81a5-48816e0a8e97",
   "metadata": {},
   "outputs": [],
   "source": []
  },
  {
   "cell_type": "code",
   "execution_count": null,
   "id": "ec2b706d-4e90-4081-9539-a6afe01eccca",
   "metadata": {},
   "outputs": [],
   "source": []
  }
 ],
 "metadata": {
  "kernelspec": {
   "display_name": ".NET (C#)",
   "language": "C#",
   "name": ".net-csharp"
  },
  "language_info": {
   "file_extension": ".cs",
   "mimetype": "text/x-csharp",
   "name": "C#",
   "pygments_lexer": "csharp",
   "version": "9.0"
  }
 },
 "nbformat": 4,
 "nbformat_minor": 5
}
