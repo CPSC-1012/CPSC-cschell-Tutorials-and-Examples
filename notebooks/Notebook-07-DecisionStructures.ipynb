{
 "cells": [
  {
   "cell_type": "markdown",
   "id": "abe995a4-ba75-4c64-82b9-4162cd1a6a87",
   "metadata": {},
   "source": [
    "# Question 1\n",
    "* Write a program that lets the user guess whether the flip of a coin results in heads or tails. The program randomly generates an integer 0 to 1, which represents head or tail. The program prompts the user to enter a guess, and reports whether the guess is correct or incorrect."
   ]
  },
  {
   "cell_type": "code",
   "execution_count": 14,
   "id": "e79d5a70-a2e7-4ece-9c5c-bc2fc36b28a6",
   "metadata": {},
   "outputs": [
    {
     "name": "stdout",
     "output_type": "stream",
     "text": [
      "Feeling lucky? Choose heads (1) or tails (0):\n",
      "No worries! Statistically, the house \"always\" wins.\n",
      "House: 0 Your choice: 1\n"
     ]
    }
   ],
   "source": [
    "int coinFlip, userSelect;\n",
    "Random randomFlip = new();\n",
    "coinFlip = randomFlip.Next(2);\n",
    "\n",
    "Console.WriteLine(\"Feeling lucky? Choose heads (1) or tails (0):\");\n",
    "/*\n",
    "userSelect = int.Parse(Console.ReadLine());\n",
    "*/\n",
    "userSelect = 1;\n",
    "if (userSelect == coinFlip)\n",
    "    {\n",
    "        Console.WriteLine(\"Congratulations, you are correct!\\n\" +\n",
    "            $\"House: {coinFlip} Your choice: {userSelect}\");\n",
    "    } // end of if\n",
    "    else\n",
    "    {\n",
    "        Console.WriteLine(\"No worries! Statistically, the house \\\"always\\\" wins.\\n\" +\n",
    "            $\"House: {coinFlip} Your choice: {userSelect}\");\n",
    "} // end of else"
   ]
  },
  {
   "cell_type": "markdown",
   "id": "e8eeafe2-d220-44fc-9a2b-a0861d48920d",
   "metadata": {},
   "source": [
    "# Question 2\n",
    "* Write a program to determine if a user input year is a leap year. A year is a leap year if it is divisible by 4 but not by 100, or if it is divisible by 400. Here are some sample runs:\n",
    "\n",
    "```\n",
    "Enter a year:\n",
    "2008\n",
    "2008 is a leap year? true\n",
    "```\n",
    "\n",
    "----\n",
    "\n",
    "```\n",
    "Enter a year:\n",
    "1900\n",
    "1900 is a leap year? false\n",
    "```"
   ]
  },
  {
   "cell_type": "code",
   "execution_count": 15,
   "id": "d2f2f459-4304-4286-80c8-89c190d9bab9",
   "metadata": {},
   "outputs": [
    {
     "name": "stdout",
     "output_type": "stream",
     "text": [
      "Enter a year: 1985 is a leap year? False\n"
     ]
    }
   ],
   "source": [
    "int year;\n",
    "\n",
    "Console.Write(\"Enter a year: \");\n",
    "\n",
    "// int year = int.Parse(Console.ReadLine());\n",
    "year = 1985;\n",
    "\n",
    "// Check if the year is a leap year\n",
    "// A leap year is divisible by 4:\n",
    "bool isLeapYear = (year % 4 == 0);\n",
    "// A leap year is divisible by 4 but not by 100:\n",
    "isLeapYear = isLeapYear && (year % 100 != 0);\n",
    "// A leap year is divisible by 4 or 400 but not by 100:\n",
    "isLeapYear = isLeapYear || (year % 400 == 0);\n",
    "\n",
    "// combined:\n",
    "// bool isLeapYear= (year % 4 == 0 && year % 100 != 0) || (year % 400 == 0);\n",
    "\n",
    "// Display the result\n",
    "Console.WriteLine($\"{year} is a leap year? {isLeapYear}\");"
   ]
  },
  {
   "cell_type": "markdown",
   "id": "075b3d86-6c1d-4743-bd43-d216249d3685",
   "metadata": {},
   "source": [
    "# Question 3\n",
    "* Write a program that plays the scissor-rock-paper game. (A scissor cuts a paper, a rock can knock a scissor, and a paper can wrap a rock.) The program randomly generates a number 0, 1, or 2 representing scissor, rock, and paper. The program prompts the user to enter a number 0, 1, or 2 and display a message indicating whether the user or the computer wins, loses, or draws. Here are sample runs:\n",
    "\n",
    "```\n",
    "Scissor (0), rock (1), paper (2):\n",
    "1\n",
    "The computer is scissor. You are rock. You win.\n",
    "```\n",
    "----\n",
    "```\n",
    "Scissor (0), rock (1), paper (2):\n",
    "1\n",
    "The computer is paper. You are too. It is a draw.\n",
    "```"
   ]
  },
  {
   "cell_type": "code",
   "execution_count": 18,
   "id": "4d6753b4-0a3a-4f4b-8481-6f6bc44af31f",
   "metadata": {},
   "outputs": [
    {
     "name": "stdout",
     "output_type": "stream",
     "text": [
      "Let's play rock paper scissors. \n",
      "Rules: \n",
      "\t - scissor = 0; rock = 1; paper = 2;\n",
      "\t - scissor cuts a paper; rock can knock a scissor; paper can wrap a rock;\n",
      "\n",
      "Enter number 0, 1, or 2:\n",
      "\n",
      "Computer plays 1 and user plays 1 \n",
      "Draw\n"
     ]
    }
   ],
   "source": [
    "// Variable\n",
    "Random randomNumber = new();\n",
    "int computerNumber = randomNumber.Next(0, 3);\n",
    "int userNumber;\n",
    "\n",
    "// Input\n",
    "Console.WriteLine(\"Let's play rock paper scissors. \");\n",
    "Console.WriteLine(\"Rules: \\n\\t - scissor = 0; rock = 1; paper = 2;\" +\n",
    "                  \"\\n\\t - scissor cuts a paper; rock can knock a scissor; paper can wrap a rock;\");\n",
    "Console.Write(\"\\nEnter number 0, 1, or 2:\\n\\n\");\n",
    "/*\n",
    "userNumber = int.Parse(Console.ReadLine());\n",
    "*/\n",
    "userNumber = 1;\n",
    "\n",
    "if (userNumber >= 0 && userNumber <= 2)\n",
    "{\n",
    "    if (userNumber == computerNumber)\n",
    "    {\n",
    "        Console.WriteLine($\"Computer plays {computerNumber} \" +\n",
    "            $\"and user plays {userNumber} \\n\" +\n",
    "            $\"Draw\");\n",
    "    }\n",
    "    else if (userNumber == 0 && computerNumber == 1)\n",
    "    {\n",
    "        Console.WriteLine($\"Computer plays {computerNumber} \" +\n",
    "            $\"and user plays {userNumber} \\n\" +\n",
    "            $\"Computer Wins\");\n",
    "    }\n",
    "    else if (userNumber == 0 && computerNumber == 2)\n",
    "    {\n",
    "        Console.WriteLine($\"Computer plays {computerNumber} \" +\n",
    "            $\"and user plays {userNumber} \\n\" +\n",
    "            $\"User Wins\");\n",
    "    }\n",
    "    else if (userNumber == 1 && computerNumber == 2)\n",
    "    {\n",
    "        Console.WriteLine($\"Computer plays {computerNumber} \" +\n",
    "            $\"and user plays {userNumber} \\n\" +\n",
    "            $\"Computer Wins\");\n",
    "    }\n",
    "    else if (userNumber == 1 && computerNumber == 0)\n",
    "    {\n",
    "        Console.WriteLine($\"Computer plays {computerNumber} \" +\n",
    "            $\"and user plays {userNumber} \\n\" +\n",
    "            $\"User Wins\");\n",
    "    }\n",
    "    else if (userNumber == 2 && computerNumber == 1)\n",
    "    {\n",
    "        Console.WriteLine($\"Computer plays {computerNumber} \" +\n",
    "            $\"and user plays {userNumber} \\n\" +\n",
    "            $\"User Wins\");\n",
    "    }\n",
    "    else\n",
    "    {\n",
    "        Console.WriteLine($\"Computer plays {computerNumber} \" +\n",
    "            $\"and user plays {userNumber} \\n\" +\n",
    "            $\"Computer Wins\");\n",
    "    }\n",
    "}\n",
    "else\n",
    "{\n",
    "    Console.WriteLine(\"Not a valid input. Please try again.\");\n",
    "} // end else"
   ]
  },
  {
   "cell_type": "code",
   "execution_count": null,
   "id": "897882dc-7b30-41b8-b978-e331822f8bc5",
   "metadata": {},
   "outputs": [],
   "source": []
  },
  {
   "cell_type": "code",
   "execution_count": null,
   "id": "d4707918-3829-479b-9c80-740cfd3d5ee9",
   "metadata": {},
   "outputs": [],
   "source": []
  },
  {
   "cell_type": "code",
   "execution_count": null,
   "id": "4737a7d7-7959-493e-94a2-9a0eedfe2360",
   "metadata": {},
   "outputs": [],
   "source": []
  }
 ],
 "metadata": {
  "kernelspec": {
   "display_name": ".NET (C#)",
   "language": "C#",
   "name": ".net-csharp"
  },
  "language_info": {
   "file_extension": ".cs",
   "mimetype": "text/x-csharp",
   "name": "C#",
   "pygments_lexer": "csharp",
   "version": "9.0"
  }
 },
 "nbformat": 4,
 "nbformat_minor": 5
}
