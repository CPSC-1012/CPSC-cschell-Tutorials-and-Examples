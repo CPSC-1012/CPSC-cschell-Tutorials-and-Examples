{
 "cells": [
  {
   "cell_type": "markdown",
   "id": "93cf37e8-a18d-4e60-a02f-d8fc9cfbc31e",
   "metadata": {},
   "source": [
    "# Question 1\n",
    "* Write a program that will prompt for a number and display “positive” if it is greater than zero, “negative” if it is less than zero, and “zero” if it is equal to zero."
   ]
  },
  {
   "cell_type": "code",
   "execution_count": 5,
   "id": "dc5d4bd6-50a6-455c-a893-98917d5d6311",
   "metadata": {},
   "outputs": [
    {
     "name": "stdout",
     "output_type": "stream",
     "text": [
      "16 is a positive number\n"
     ]
    }
   ],
   "source": [
    "int number;\n",
    "\n",
    "/*\n",
    "Console.WriteLine(\"Please enter an integer number\");\n",
    "number = int.Parse(Console.ReadLine());\n",
    "*/\n",
    "\n",
    "number = 16;\n",
    "\n",
    "\n",
    "if (number < 0)\n",
    "{\n",
    "    Console.WriteLine($\"{number} is a negative number\");\n",
    "} // end of if\n",
    "else if (number > 0)\n",
    "{\n",
    "    Console.WriteLine($\"{number} is a positive number\");\n",
    "} // end of else if\n",
    "else \n",
    "{\n",
    "    Console.WriteLine($\"{number} is zero\");\n",
    "} // end of else\n",
    "\n",
    "/*\n",
    "switch (number)\n",
    "{\n",
    "    \n",
    "    case < 0:\n",
    "        Console.WriteLine($\"{number} is a negative number\");\n",
    "        break;\n",
    "    case > 0:\n",
    "        Console.WriteLine($\"{number} is a positive number\");\n",
    "        break;\n",
    "    default:\n",
    "        Console.WriteLine($\"{number} is zero\");\n",
    "        break;\n",
    "} // end of switch\n",
    "*/"
   ]
  },
  {
   "cell_type": "markdown",
   "id": "e838c4f6-d177-4f00-9c00-048285b43f19",
   "metadata": {},
   "source": [
    "# Question 2\n",
    "* Write a program that will determine the cost of admission for a theatre. The price of admission is based on the age of the customer. Your program should prompt the user for their age and then display the correct admission amount.\n",
    "    * Children 6 and under = FREE (\\$0.00)\n",
    "    * Students 7 to 17 = \\$9.80\n",
    "    * Adults 18 to 54 = \\$11.35\n",
    "    * Seniors 55+ = \\$10.00"
   ]
  },
  {
   "cell_type": "code",
   "execution_count": 2,
   "id": "b074c541-da4e-4252-9e5a-d6b39f01c5e0",
   "metadata": {},
   "outputs": [
    {
     "name": "stdout",
     "output_type": "stream",
     "text": [
      "Please enter your age:\n",
      "$11.35\n"
     ]
    }
   ],
   "source": [
    "/*\n",
    "Cody Schellenberger\n",
    "Algorithm: Write a program that will determine the \n",
    "cost of admission for a theatre. The price of admission\n",
    "is based on the age of the customer. Your program should \n",
    "prompt the user for their age and then display the correct \n",
    "admission amount.\n",
    "    • Children 6 and under = FREE ($0.00)\n",
    "    • Students 7 to 17 = $9.80\n",
    "    • Adults 18 to 54 = $11.35\n",
    "    • Seniors 55+ = $10.00\n",
    "Test Case       Values      Output\n",
    "-----------     --------    ---------\n",
    "\n",
    "\n",
    "*/\n",
    "\n",
    "// declaring variables\n",
    "int age;\n",
    "\n",
    "// capturing input from the user\n",
    "Console.WriteLine(\"Please enter your age:\");\n",
    "// age = int.Parse(Console.ReadLine());\n",
    "age = 35;\n",
    "\n",
    "switch (age)\n",
    "{\n",
    "    case <= 6:\n",
    "        Console.WriteLine(\"FREE!\");\n",
    "        break;\n",
    "    case < 18:\n",
    "        Console.WriteLine(\"$9.80\");\n",
    "        break;\n",
    "    case < 55:\n",
    "        Console.WriteLine(\"$11.35\");\n",
    "        break;\n",
    "    default:\n",
    "        Console.WriteLine(\"$10.00\");\n",
    "        break;\n",
    "} // end of switch\n",
    "\n"
   ]
  },
  {
   "cell_type": "markdown",
   "id": "8c771759-eecd-4d58-8edd-eacec024bca3",
   "metadata": {},
   "source": [
    "# Question 3\n",
    "* Write a program that will prompt the user for a student’s name and their mark. The program should display the student’s name along with a letter grade calculated using the following table:\n",
    "\n",
    "| Mark   \t| Grade \t|\n",
    "|--------\t|-------\t|\n",
    "| 100-90 \t| A     \t|\n",
    "| 89-80  \t| B     \t|\n",
    "| 79-70  \t| C     \t|\n",
    "| 69-50  \t| D     \t|\n",
    "| 49-0   \t| F     \t|"
   ]
  },
  {
   "cell_type": "code",
   "execution_count": 3,
   "id": "db851a09-81d8-49d8-bdec-3713963915b2",
   "metadata": {},
   "outputs": [
    {
     "name": "stdout",
     "output_type": "stream",
     "text": [
      "Please enter your name:\n",
      "Please enter your grade:\n",
      "Cody, your grade is a B\n"
     ]
    }
   ],
   "source": [
    "double grade;\n",
    "string name;\n",
    "\n",
    "\n",
    "Console.WriteLine(\"Please enter your name:\");\n",
    "// name = Console.ReadLine();\n",
    "Console.WriteLine(\"Please enter your grade:\");\n",
    "// grade = double.Parse(Console.ReadLine());\n",
    "\n",
    "name = \"Cody\";\n",
    "grade = 85;\n",
    "\n",
    "switch (grade)\n",
    "{\n",
    "    case < 50:\n",
    "        Console.WriteLine($\"{name}, your grade is an F\");\n",
    "        break;\n",
    "    case < 70:\n",
    "        Console.WriteLine($\"{name}, your grade is a D\");\n",
    "        break;\n",
    "    case < 80:\n",
    "        Console.WriteLine($\"{name}, your grade is a C\");\n",
    "        break;\n",
    "    case < 90:\n",
    "        Console.WriteLine($\"{name}, your grade is a B\");\n",
    "        break;\n",
    "    default:\n",
    "        Console.WriteLine($\"{name}, your grade is a A\");\n",
    "        break;\n",
    "} // end of switch\n",
    "\n",
    "/*\n",
    "if (grade < 50)\n",
    "{\n",
    "    Console.WriteLine($\"{name}, your grade is an F\");\n",
    "} // end of if\n",
    "else if (grade < 70)\n",
    "{\n",
    "    Console.WriteLine($\"{name}, your grade is a D\");\n",
    "}\n",
    "else if (grade < 80)\n",
    "{\n",
    "    Console.WriteLine($\"{name}, your grade is a C\");\n",
    "}\n",
    "else if (grade < 90)\n",
    "{\n",
    "    Console.WriteLine($\"{name}, your grade is a B\");\n",
    "}\n",
    "else\n",
    "{\n",
    "    Console.WriteLine($\"{name}, your grade is a A\");\n",
    "}\n",
    "*/"
   ]
  },
  {
   "cell_type": "markdown",
   "id": "95813a78-4dc3-4838-83fe-dd37d9030530",
   "metadata": {},
   "source": [
    "# Question 4\n",
    "* Write a program that will compute the income tax due on a taxable income entered by the user. Use the following table to determine the tax owed:\n",
    "| Taxable Income    \t| Tax Due                            \t|\n",
    "|-------------------\t|------------------------------------\t|\n",
    "| Up to \\$50,000     \t| \\$0 + 5\\% of amount over \\$0          \t|\n",
    "| Up to \\$100,000    \t| \\$2,500 + 7\\% of amount over \\$50,000 \t|\n",
    "| \\$100,000 and over \t| \\$6000 + 9\\% of amount over \\$100,000 \t|"
   ]
  },
  {
   "cell_type": "code",
   "execution_count": 4,
   "id": "f4dbce66-f9ea-4331-8b3f-cddd5100d914",
   "metadata": {},
   "outputs": [
    {
     "name": "stdout",
     "output_type": "stream",
     "text": [
      "Please enter your income:\n",
      "The income tax due is $2,640.00\n"
     ]
    }
   ],
   "source": [
    "double incomeAmount, incomeTax;\n",
    "\n",
    "incomeAmount = 52000;\n",
    "\n",
    "Console.WriteLine(\"Please enter your income:\");\n",
    "/*\n",
    "incomeAmount = double.Parse(Console.ReadLine());\n",
    "\n",
    "switch (incomeAmount)\n",
    "{\n",
    "    case < 50000:\n",
    "        incomeTax = incomeAmount * 0.05;\n",
    "        break;\n",
    "    case < 100000:\n",
    "        incomeTax = 2500 + (incomeAmount - 50000) * 0.07;\n",
    "        break;\n",
    "    default:\n",
    "        incomeTax = 6000 + (incomeAmount - 100000) * 0.09;\n",
    "        break;\n",
    "}\n",
    "*/\n",
    "// Selection for tax bracket and calculations\n",
    "if (incomeAmount < 50000)\n",
    "{\n",
    "    incomeTax = incomeAmount * 0.05;\n",
    "} // end of if\n",
    "else if (incomeAmount < 100000)\n",
    "{\n",
    "    incomeTax = 2500 + (incomeAmount - 50000) * 0.07;\n",
    "} // end of else if\n",
    "else\n",
    "{\n",
    "    incomeTax = 6000 + (incomeAmount - 100000) * 0.09;\n",
    "} // end of else\n",
    "\n",
    "// output of taxes due\n",
    "Console.WriteLine($\"The income tax due is {incomeTax:C}\");"
   ]
  }
 ],
 "metadata": {
  "kernelspec": {
   "display_name": ".NET (C#)",
   "language": "C#",
   "name": ".net-csharp"
  },
  "language_info": {
   "file_extension": ".cs",
   "mimetype": "text/x-csharp",
   "name": "C#",
   "pygments_lexer": "csharp",
   "version": "9.0"
  }
 },
 "nbformat": 4,
 "nbformat_minor": 5
}
