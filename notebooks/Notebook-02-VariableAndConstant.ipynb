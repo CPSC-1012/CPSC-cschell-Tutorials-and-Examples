{
 "cells": [
  {
   "cell_type": "markdown",
   "id": "664d4a71-5ccc-4e61-a48d-35b601a55061",
   "metadata": {},
   "source": [
    "# CPSC1012 – Variable and Constant Identification Problems\n",
    "For each of the following problems, identify the required variable(s) by underlining, highlighting, or\n",
    "other means. Write down a name and an appropriate simple data type (e.g. string, number, character,\n",
    "etc.) for each variable you identify."
   ]
  },
  {
   "cell_type": "markdown",
   "id": "1d254bb6-0087-4be6-bfe8-8b88e09efcb9",
   "metadata": {},
   "source": [
    "# Question 1\n",
    "The West Coast sales unit of a company generates 43 percent of the company’s `total sales`.\n",
    "Based on this `percentage`, write a program that will determine `how much` the West Coast unit\n",
    "will generate if the company has $5.3 million in sales this year.\n",
    "```csharp\n",
    "double totalSales;\n",
    "double westCoastPercentage;\n",
    "double westCoastTotal; // howMuch\n",
    "```"
   ]
  },
  {
   "cell_type": "code",
   "execution_count": 5,
   "id": "11a8777d-e405-44a7-975b-18852678ce12",
   "metadata": {},
   "outputs": [
    {
     "name": "stdout",
     "output_type": "stream",
     "text": [
      "The total sales that the West Coast sales unit will generate is $2,279,000.00\n"
     ]
    }
   ],
   "source": [
    "double totalSales = 5300000;\n",
    "double westCoastPercentage = 0.43;\n",
    "double westCoastTotal;\n",
    "\n",
    "westCoastTotal = totalSales * westCoastPercentage;\n",
    "\n",
    "Console.WriteLine(\"The total sales that the West Coast sales \" +\n",
    "                  $\"unit will generate is {westCoastTotal:C2}\");"
   ]
  },
  {
   "cell_type": "markdown",
   "id": "5aeee454-efe1-49a5-bb11-090e8bf02460",
   "metadata": {},
   "source": [
    "# Question 2\n",
    "`One acre` of land is equivalent to 43,560 square feet. Write a program that calculates the\n",
    "`number of acres` in a tract of land with a user provided `value of square feet`.\n",
    "```csharp\n",
    "const double oneAcre = 43560;\n",
    "double = numberOfAcres;\n",
    "double = numberOfSquareFeet;\n",
    "```"
   ]
  },
  {
   "cell_type": "code",
   "execution_count": 16,
   "id": "b3b4398c-4122-4940-b7ca-c847cc39617e",
   "metadata": {},
   "outputs": [
    {
     "name": "stdout",
     "output_type": "stream",
     "text": [
      "Please enter the area of your land in square feet:\n",
      "The number of acres is 5,739.21\n"
     ]
    }
   ],
   "source": [
    "const double oneAcre = 43560;\n",
    "double numberOfAcres;\n",
    "double numberOfSquareFeet;\n",
    "\n",
    "Console.WriteLine(\"Please enter the area of your land in square feet:\");\n",
    "numberOfSquareFeet = 250000000; // numberOfSquareFeet = double.Parse(Console.ReadLine());\n",
    "\n",
    "numberOfAcres = numberOfSquareFeet / oneAcre;\n",
    "\n",
    "Console.WriteLine($\"The number of acres is {numberOfAcres:#,###0.00}\");"
   ]
  },
  {
   "cell_type": "markdown",
   "id": "02ba0398-12ae-41a0-bd14-a07dc9828881",
   "metadata": {},
   "source": [
    "# Question 3\n",
    "A `bag of cookies` holds 26 cookies. The calorie information on the bag claims that there are 10\n",
    "`servings` in the bag and that each serving equals 175 `calories`. Write a program that lets the user\n",
    "enter the `number of cookies` he or she actually ate and then reports the number of `total calories`\n",
    "consumed.\n",
    "```csharp\n",
    "const int cookiesPerBag = 26;\n",
    "const int servingsPerBag = 10;\n",
    "const int caloriesPerServing = 175;\n",
    "int numberOfCookies;\n",
    "double numberOfCalories;\n",
    "```"
   ]
  },
  {
   "cell_type": "code",
   "execution_count": 19,
   "id": "4740ec32-d01e-4e33-bfbe-0f878c7247b0",
   "metadata": {},
   "outputs": [
    {
     "name": "stdout",
     "output_type": "stream",
     "text": [
      "Please enter the number of cookies you ate:\n",
      "The number of calories consumed is 403.85\n"
     ]
    }
   ],
   "source": [
    "const int cookiesPerBag = 26;\n",
    "const int servingsPerBag = 10;\n",
    "const int caloriesPerServing = 175;\n",
    "int numberOfCookies;\n",
    "double numberOfCalories;\n",
    "\n",
    "Console.WriteLine(\"Please enter the number of cookies you ate:\");\n",
    "numberOfCookies = 6; // numberOfCookies = int.Parse(Console.ReadLine());\n",
    "\n",
    "numberOfCalories = numberOfCookies / ((double)cookiesPerBag / servingsPerBag) * caloriesPerServing;\n",
    "\n",
    "Console.WriteLine($\"The number of calories consumed is {numberOfCalories:0.00}\");"
   ]
  },
  {
   "cell_type": "markdown",
   "id": "a50fbd09-177b-44f3-9240-bb6073e1d28e",
   "metadata": {},
   "source": [
    "# Question 4\n",
    "Write a program that asks the user to enter `three test scores`. The program should display each\n",
    "test score, as well as the `average` test of the scores.\n",
    "```csharp\n",
    "double testScore1;\n",
    "double testScore2;\n",
    "double testScore3;\n",
    "double averageTestScore;\n",
    "```"
   ]
  },
  {
   "cell_type": "code",
   "execution_count": 23,
   "id": "f602941a-817a-4149-9432-494e63da3b4e",
   "metadata": {},
   "outputs": [
    {
     "name": "stdout",
     "output_type": "stream",
     "text": [
      "Please enter the first test score:\n",
      "Please enter the first test score:\n",
      "Please enter the first test score:\n",
      "The average test score is 70.00\n"
     ]
    }
   ],
   "source": [
    "double testScore1;\n",
    "double testScore2;\n",
    "double testScore3;\n",
    "double averageTestScore;\n",
    "\n",
    "Console.WriteLine(\"Please enter the first test score:\");\n",
    "testScore1 = 60; // testScore1 = double.Parse(Console.ReadLine());\n",
    "Console.WriteLine(\"Please enter the first test score:\");\n",
    "testScore2 = 70; // testScore2 = double.Parse(Console.ReadLine());\n",
    "Console.WriteLine(\"Please enter the first test score:\");\n",
    "testScore3 = 80; // testScore3 = double.Parse(Console.ReadLine());\n",
    "\n",
    "averageTestScore = (testScore1 + testScore2 + testScore3) / 3;\n",
    "\n",
    "Console.WriteLine($\"The average test score is {averageTestScore:0.00}\");"
   ]
  },
  {
   "cell_type": "markdown",
   "id": "d676d991-b314-4e4c-965d-c36d3835b09b",
   "metadata": {},
   "source": [
    "# Question 5\n",
    "Write a program that asks for the `names` of three runners and the `time`, in minutes, it took each\n",
    "of them to finish a race. The program should display the names of the runners in the order that\n",
    "they finished.\n",
    "```csharp\n",
    "// tuples for each runner\n",
    "// consisting of a string and a Tim\n",
    "(string, TimeSpan) runnerOne = (\"nameOne\", TimeSpan.FromSeconds());  \n",
    "```"
   ]
  },
  {
   "cell_type": "code",
   "execution_count": 26,
   "id": "a53c10e0-a6fa-427b-8bb3-1ef99085b4f3",
   "metadata": {},
   "outputs": [
    {
     "name": "stdout",
     "output_type": "stream",
     "text": [
      "(Runner1, 00:04:18)\n",
      "(Runner2, 00:05:58)\n",
      "(Runner3, 00:02:38)\n",
      "\n",
      "The runner in position 1 is:\n",
      "Runner3\n",
      "The runner in position 2 is:\n",
      "Runner1\n",
      "The runner in position 3 is:\n",
      "Runner2\n"
     ]
    }
   ],
   "source": [
    "// generate a list of runners and their times\n",
    "            (string name, TimeSpan time)[] Runners = { (\"Runner1\", TimeSpan.FromSeconds(258)), \n",
    "                (\"Runner2\", TimeSpan.FromSeconds(358)), \n",
    "                (\"Runner3\", TimeSpan.FromSeconds(158)) };\n",
    "            (string, TimeSpan) temp;\n",
    "\n",
    "            // output the current list of runners\n",
    "            foreach ((string, TimeSpan) runner in Runners)\n",
    "            {\n",
    "                Console.WriteLine($\"{runner}\");\n",
    "            } // end foreach\n",
    "\n",
    "            // bubble sort algorithm to rank runners\n",
    "            for (int p = 0; p <= Runners.Length - 2; p++)\n",
    "            {\n",
    "                for (int i = 0; i <= Runners.Length - 2; i++)\n",
    "                {\n",
    "                    if (Runners[i].time > Runners[i + 1].time)\n",
    "                    {\n",
    "                        temp = Runners[i + 1];\n",
    "                        Runners[i + 1] = Runners[i];\n",
    "                        Runners[i] = temp;\n",
    "                    } // end if\n",
    "                } // end for\n",
    "            } // end for\n",
    "            \n",
    "            // output the ranking of runners\n",
    "            int runnerPosition = 1;\n",
    "            Console.WriteLine();\n",
    "            foreach ((string, TimeSpan) runner in Runners)\n",
    "            {\n",
    "                Console.WriteLine($\"The runner in position {runnerPosition} is:\");\n",
    "                Console.WriteLine($\"{runner.Item1}\");\n",
    "                runnerPosition++;\n",
    "            } // end for each"
   ]
  },
  {
   "cell_type": "code",
   "execution_count": null,
   "id": "794c99ba-647c-48fa-9e08-59ad2a0c7745",
   "metadata": {},
   "outputs": [],
   "source": []
  },
  {
   "cell_type": "code",
   "execution_count": null,
   "id": "c8862918-3dc3-43c5-93d3-239c89a3a203",
   "metadata": {},
   "outputs": [],
   "source": []
  },
  {
   "cell_type": "code",
   "execution_count": null,
   "id": "86e2963f-e6e7-45f7-bfcb-344589882bf9",
   "metadata": {},
   "outputs": [],
   "source": []
  }
 ],
 "metadata": {
  "kernelspec": {
   "display_name": ".NET (C#)",
   "language": "C#",
   "name": ".net-csharp"
  },
  "language_info": {
   "file_extension": ".cs",
   "mimetype": "text/x-csharp",
   "name": "C#",
   "pygments_lexer": "csharp",
   "version": "9.0"
  }
 },
 "nbformat": 4,
 "nbformat_minor": 5
}
