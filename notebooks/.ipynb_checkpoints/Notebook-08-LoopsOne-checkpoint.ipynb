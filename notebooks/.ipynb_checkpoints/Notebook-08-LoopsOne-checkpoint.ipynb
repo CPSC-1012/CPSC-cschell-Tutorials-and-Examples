{
 "cells": [
  {
   "cell_type": "markdown",
   "id": "f317163c-9cb7-4c3b-99a1-aaaa6d844f0a",
   "metadata": {},
   "source": [
    "# Question 1\n",
    "Find the sum of the squares of the integers from 1 to `mySquare`, where `mySquare` is input by the user. \n",
    "\n",
    "E.g. user enters 4 then return:\n",
    "```\n",
    "1x1 + 2x2 + 3x3 + 4x4 = 30\n",
    "```"
   ]
  },
  {
   "cell_type": "code",
   "execution_count": 3,
   "id": "cd4dc441-c08b-4f75-8254-0b96af26e207",
   "metadata": {},
   "outputs": [
    {
     "name": "stdout",
     "output_type": "stream",
     "text": [
      "How many squares should we sum?\n",
      "1x1 + 2x2 + 3x3 + 4x4 + 5x5 + 6x6 + 7x7 + 8x8 + 9x9 + 10x10 + 11x11 + 12x12 = 650"
     ]
    }
   ],
   "source": [
    "int mySquare;\n",
    "\n",
    "Console.WriteLine(\"How many squares should we sum?\");\n",
    "// mySquare = int.Parse(Console.ReadLine());\n",
    "mySquare = 12;\n",
    "\n",
    "/*\n",
    "while (count <= mySquare)\n",
    "{\n",
    "    sumOfSquares += count * count;\n",
    "\n",
    "    if (count < mySquare)\n",
    "    {\n",
    "        Console.Write($\"{count}x{count} + \");\n",
    "    } // end of if\n",
    "    else\n",
    "    {\n",
    "        Console.Write($\"{count}x{count} = {sumOfSquares}\");\n",
    "    } // end of else\n",
    "\n",
    "    count++;\n",
    "\n",
    "} // end of while\n",
    "*/\n",
    "\n",
    "for (int count = 1, sumOfSquares = 0; count <= mySquare; count++)\n",
    "{\n",
    "    sumOfSquares += count * count;\n",
    "\n",
    "    if (count < mySquare)\n",
    "    {\n",
    "        Console.Write($\"{count}x{count} + \");\n",
    "    } // end of if\n",
    "    else\n",
    "    {\n",
    "        Console.Write($\"{count}x{count} = {sumOfSquares}\");\n",
    "    } // end of else\n",
    "} // end of for"
   ]
  },
  {
   "cell_type": "markdown",
   "id": "4b80fd96-290f-48d0-90aa-436d3cb0818c",
   "metadata": {},
   "source": [
    "# Question 2\n",
    "Input a list of positive numbers from the user and then calculate and display the average age. Use the input of the number zero (i.e. 0) to stop prompting for numbers."
   ]
  },
  {
   "cell_type": "code",
   "execution_count": 4,
   "id": "9ccdb239-0fad-415d-aba3-3b094320c012",
   "metadata": {},
   "outputs": [],
   "source": [
    "// This code requires console input from the user. \n",
    "// Copy and paste into Visual Studio to run the code.\n",
    "\n",
    "/*\n",
    "int numberOfValues = 0;\n",
    "int total = 0, average;\n",
    "\n",
    "Console.WriteLine(\"Enter the values you would like \\n\" +\n",
    "    \"to calculate the average for: [enter 0 to quit]\");\n",
    "\n",
    "int userInput;\n",
    "do\n",
    "{\n",
    "    userInput = int.Parse(Console.ReadLine());\n",
    "    total += userInput;\n",
    "    numberOfValues++;\n",
    "} // end of do\n",
    "while (userInput != 0);\n",
    "\n",
    "average = total / numberOfValues;\n",
    "\n",
    "Console.WriteLine($\"The average of your {numberOfValues} values is {average}.\");\n",
    "*/"
   ]
  },
  {
   "cell_type": "markdown",
   "id": "6d83254b-ebec-406a-8e03-e72a5a34d3b0",
   "metadata": {},
   "source": [
    "# Question 3\n",
    "Write a program that reads in a value `myNumber` and then prints its digits in a column, starting with the last digit. E.g. if `myNumber = 3456`, then the program should print the following:\n",
    "```\n",
    "    6\n",
    "    5\n",
    "    4\n",
    "    3\n",
    "```"
   ]
  },
  {
   "cell_type": "code",
   "execution_count": 5,
   "id": "cb4b7f08-fa5b-4efd-b055-cc6adc48a430",
   "metadata": {},
   "outputs": [
    {
     "name": "stdout",
     "output_type": "stream",
     "text": [
      "provide a positive integer:\n",
      "5\n",
      "7\n",
      "8\n",
      "6\n",
      "5\n",
      "4\n"
     ]
    }
   ],
   "source": [
    "int myNumber;\n",
    "int numberOfDigits;\n",
    "\n",
    "Console.WriteLine(\"provide a positive integer:\");\n",
    "// myNumber = int.Parse(Console.ReadLine());\n",
    "myNumber = 456875;\n",
    "\n",
    "numberOfDigits = myNumber.ToString().Length;\n",
    "\n",
    "while (numberOfDigits > 0)\n",
    "{\n",
    "    Console.WriteLine(myNumber % 10);\n",
    "    myNumber /= 10;\n",
    "    numberOfDigits--;\n",
    "} // end of while"
   ]
  },
  {
   "cell_type": "code",
   "execution_count": null,
   "id": "660162c5-9355-4f2a-8a43-7d9bc57c29de",
   "metadata": {},
   "outputs": [],
   "source": []
  },
  {
   "cell_type": "code",
   "execution_count": null,
   "id": "bf107051-0cbd-446b-9490-16621f1a5381",
   "metadata": {},
   "outputs": [],
   "source": []
  }
 ],
 "metadata": {
  "kernelspec": {
   "display_name": ".NET (C#)",
   "language": "C#",
   "name": ".net-csharp"
  },
  "language_info": {
   "file_extension": ".cs",
   "mimetype": "text/x-csharp",
   "name": "C#",
   "pygments_lexer": "csharp",
   "version": "9.0"
  }
 },
 "nbformat": 4,
 "nbformat_minor": 5
}
