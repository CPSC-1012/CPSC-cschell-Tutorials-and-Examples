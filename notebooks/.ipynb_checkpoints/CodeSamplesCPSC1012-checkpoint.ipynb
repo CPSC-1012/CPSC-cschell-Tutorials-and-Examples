{
 "cells": [
  {
   "cell_type": "markdown",
   "id": "f53676bd-6018-4577-94b1-ec8407c885c8",
   "metadata": {},
   "source": [
    "# Simple Code Example\n",
    "* The following code uses a few fundamental concepts in programming.\n",
    "* Declaring a variable is the `int hours` section of the first line.\n",
    "* Instantiation is when the variable, not only has a place in memory (declaration) but also has a value.\n",
    "* In this example, we are doing both in line one. Declaring a variable `hours` and instantiating that variable with the value 40.\n",
    "* The value 40 is a special data type called an integer. We will learn about many data types.\n",
    "* You will become the most familiar with the `int`, `double`, and `string` classes.\n",
    "* Classes are a special **identifier** in C#. We can use this pre-defined code from the .NET core libary to quickly build our solutions.\n"
   ]
  },
  {
   "cell_type": "code",
   "execution_count": 1,
   "id": "033afc89",
   "metadata": {},
   "outputs": [
    {
     "data": {
      "text/html": [
       "\r\n",
       "<div>\r\n",
       "    <div id='dotnet-interactive-this-cell-44850.Microsoft.DotNet.Interactive.Http.HttpPort' style='display: none'>\r\n",
       "        The below script needs to be able to find the current output cell; this is an easy method to get it.\r\n",
       "    </div>\r\n",
       "    <script type='text/javascript'>\r\n",
       "async function probeAddresses(probingAddresses) {\r\n",
       "    function timeout(ms, promise) {\r\n",
       "        return new Promise(function (resolve, reject) {\r\n",
       "            setTimeout(function () {\r\n",
       "                reject(new Error('timeout'))\r\n",
       "            }, ms)\r\n",
       "            promise.then(resolve, reject)\r\n",
       "        })\r\n",
       "    }\r\n",
       "\r\n",
       "    if (Array.isArray(probingAddresses)) {\r\n",
       "        for (let i = 0; i < probingAddresses.length; i++) {\r\n",
       "\r\n",
       "            let rootUrl = probingAddresses[i];\r\n",
       "\r\n",
       "            if (!rootUrl.endsWith('/')) {\r\n",
       "                rootUrl = `${rootUrl}/`;\r\n",
       "            }\r\n",
       "\r\n",
       "            try {\r\n",
       "                let response = await timeout(1000, fetch(`${rootUrl}discovery`, {\r\n",
       "                    method: 'POST',\r\n",
       "                    cache: 'no-cache',\r\n",
       "                    mode: 'cors',\r\n",
       "                    timeout: 1000,\r\n",
       "                    headers: {\r\n",
       "                        'Content-Type': 'text/plain'\r\n",
       "                    },\r\n",
       "                    body: probingAddresses[i]\r\n",
       "                }));\r\n",
       "\r\n",
       "                if (response.status == 200) {\r\n",
       "                    return rootUrl;\r\n",
       "                }\r\n",
       "            }\r\n",
       "            catch (e) { }\r\n",
       "        }\r\n",
       "    }\r\n",
       "}\r\n",
       "\r\n",
       "function loadDotnetInteractiveApi() {\r\n",
       "    probeAddresses([\"http://192.168.1.83:1024/\", \"http://192.168.1.93:1024/\", \"http://127.0.0.1:1024/\"])\r\n",
       "        .then((root) => {\r\n",
       "        // use probing to find host url and api resources\r\n",
       "        // load interactive helpers and language services\r\n",
       "        let dotnetInteractiveRequire = require.config({\r\n",
       "        context: '44850.Microsoft.DotNet.Interactive.Http.HttpPort',\r\n",
       "                paths:\r\n",
       "            {\r\n",
       "                'dotnet-interactive': `${root}resources`\r\n",
       "                }\r\n",
       "        }) || require;\r\n",
       "\r\n",
       "            window.dotnetInteractiveRequire = dotnetInteractiveRequire;\r\n",
       "\r\n",
       "            window.configureRequireFromExtension = function(extensionName, extensionCacheBuster) {\r\n",
       "                let paths = {};\r\n",
       "                paths[extensionName] = `${root}extensions/${extensionName}/resources/`;\r\n",
       "                \r\n",
       "                let internalRequire = require.config({\r\n",
       "                    context: extensionCacheBuster,\r\n",
       "                    paths: paths,\r\n",
       "                    urlArgs: `cacheBuster=${extensionCacheBuster}`\r\n",
       "                    }) || require;\r\n",
       "\r\n",
       "                return internalRequire\r\n",
       "            };\r\n",
       "        \r\n",
       "            dotnetInteractiveRequire([\r\n",
       "                    'dotnet-interactive/dotnet-interactive'\r\n",
       "                ],\r\n",
       "                function (dotnet) {\r\n",
       "                    dotnet.init(window);\r\n",
       "                },\r\n",
       "                function (error) {\r\n",
       "                    console.log(error);\r\n",
       "                }\r\n",
       "            );\r\n",
       "        })\r\n",
       "        .catch(error => {console.log(error);});\r\n",
       "    }\r\n",
       "\r\n",
       "// ensure `require` is available globally\r\n",
       "if ((typeof(require) !==  typeof(Function)) || (typeof(require.config) !== typeof(Function))) {\r\n",
       "    let require_script = document.createElement('script');\r\n",
       "    require_script.setAttribute('src', 'https://cdnjs.cloudflare.com/ajax/libs/require.js/2.3.6/require.min.js');\r\n",
       "    require_script.setAttribute('type', 'text/javascript');\r\n",
       "    \r\n",
       "    \r\n",
       "    require_script.onload = function() {\r\n",
       "        loadDotnetInteractiveApi();\r\n",
       "    };\r\n",
       "\r\n",
       "    document.getElementsByTagName('head')[0].appendChild(require_script);\r\n",
       "}\r\n",
       "else {\r\n",
       "    loadDotnetInteractiveApi();\r\n",
       "}\r\n",
       "\r\n",
       "    </script>\r\n",
       "</div>"
      ]
     },
     "metadata": {},
     "output_type": "display_data"
    }
   ],
   "source": [
    "int hours = 40;\n",
    "double grossPay, payRate = 25.0;\n",
    "grossPay = hours * payRate;"
   ]
  },
  {
   "cell_type": "markdown",
   "id": "2591e8af-57ed-4fd4-b3f7-fe8d2cb84fea",
   "metadata": {},
   "source": [
    "# Challenge\n",
    "How would you declare and instantiate the variable hours on two lines? (Or using C# lingo, with two **statements**)\n",
    "\n",
    "----\n",
    "\n",
    "* This example also shows defining two `double` variables within one statement.\n",
    "* `grossPay` is instatiated on the next line using an arithmetic operation. "
   ]
  },
  {
   "cell_type": "code",
   "execution_count": 2,
   "id": "1823e286",
   "metadata": {
    "scrolled": true
   },
   "outputs": [
    {
     "name": "stdout",
     "output_type": "stream",
     "text": [
      "Your gross pay is $1000\n"
     ]
    }
   ],
   "source": [
    "Console.Write(\"Your gross pay is $\");\n",
    "Console.WriteLine(grossPay);"
   ]
  },
  {
   "cell_type": "markdown",
   "id": "554cb810-2d89-4e93-a9b9-4c26b07631b2",
   "metadata": {},
   "source": [
    "# `Console.Write()` & `Console.WriteLine()` are **Methods**\n",
    "\n",
    "* We are introduced to [methods](https://docs.microsoft.com/en-us/dotnet/csharp/programming-guide/classes-and-structs/methods) in this example.\n",
    "* The opening and closing parentheses `()` would hold any parameters or arguments. Here, `Write()` & `WriteLine()` take strings as input. "
   ]
  },
  {
   "cell_type": "markdown",
   "id": "17491a51-b379-4eec-85d6-fa1f6cce7f29",
   "metadata": {},
   "source": [
    "# Basic Math using C#"
   ]
  },
  {
   "cell_type": "code",
   "execution_count": 1,
   "id": "bd63d6a4-092e-43cd-b0d6-4cb0e427d181",
   "metadata": {},
   "outputs": [
    {
     "data": {
      "text/html": [
       "\r\n",
       "<div>\r\n",
       "    <div id='dotnet-interactive-this-cell-18158.Microsoft.DotNet.Interactive.Http.HttpPort' style='display: none'>\r\n",
       "        The below script needs to be able to find the current output cell; this is an easy method to get it.\r\n",
       "    </div>\r\n",
       "    <script type='text/javascript'>\r\n",
       "async function probeAddresses(probingAddresses) {\r\n",
       "    function timeout(ms, promise) {\r\n",
       "        return new Promise(function (resolve, reject) {\r\n",
       "            setTimeout(function () {\r\n",
       "                reject(new Error('timeout'))\r\n",
       "            }, ms)\r\n",
       "            promise.then(resolve, reject)\r\n",
       "        })\r\n",
       "    }\r\n",
       "\r\n",
       "    if (Array.isArray(probingAddresses)) {\r\n",
       "        for (let i = 0; i < probingAddresses.length; i++) {\r\n",
       "\r\n",
       "            let rootUrl = probingAddresses[i];\r\n",
       "\r\n",
       "            if (!rootUrl.endsWith('/')) {\r\n",
       "                rootUrl = `${rootUrl}/`;\r\n",
       "            }\r\n",
       "\r\n",
       "            try {\r\n",
       "                let response = await timeout(1000, fetch(`${rootUrl}discovery`, {\r\n",
       "                    method: 'POST',\r\n",
       "                    cache: 'no-cache',\r\n",
       "                    mode: 'cors',\r\n",
       "                    timeout: 1000,\r\n",
       "                    headers: {\r\n",
       "                        'Content-Type': 'text/plain'\r\n",
       "                    },\r\n",
       "                    body: probingAddresses[i]\r\n",
       "                }));\r\n",
       "\r\n",
       "                if (response.status == 200) {\r\n",
       "                    return rootUrl;\r\n",
       "                }\r\n",
       "            }\r\n",
       "            catch (e) { }\r\n",
       "        }\r\n",
       "    }\r\n",
       "}\r\n",
       "\r\n",
       "function loadDotnetInteractiveApi() {\r\n",
       "    probeAddresses([\"http://192.168.1.83:1024/\", \"http://192.168.1.93:1024/\", \"http://127.0.0.1:1024/\"])\r\n",
       "        .then((root) => {\r\n",
       "        // use probing to find host url and api resources\r\n",
       "        // load interactive helpers and language services\r\n",
       "        let dotnetInteractiveRequire = require.config({\r\n",
       "        context: '18158.Microsoft.DotNet.Interactive.Http.HttpPort',\r\n",
       "                paths:\r\n",
       "            {\r\n",
       "                'dotnet-interactive': `${root}resources`\r\n",
       "                }\r\n",
       "        }) || require;\r\n",
       "\r\n",
       "            window.dotnetInteractiveRequire = dotnetInteractiveRequire;\r\n",
       "\r\n",
       "            window.configureRequireFromExtension = function(extensionName, extensionCacheBuster) {\r\n",
       "                let paths = {};\r\n",
       "                paths[extensionName] = `${root}extensions/${extensionName}/resources/`;\r\n",
       "                \r\n",
       "                let internalRequire = require.config({\r\n",
       "                    context: extensionCacheBuster,\r\n",
       "                    paths: paths,\r\n",
       "                    urlArgs: `cacheBuster=${extensionCacheBuster}`\r\n",
       "                    }) || require;\r\n",
       "\r\n",
       "                return internalRequire\r\n",
       "            };\r\n",
       "        \r\n",
       "            dotnetInteractiveRequire([\r\n",
       "                    'dotnet-interactive/dotnet-interactive'\r\n",
       "                ],\r\n",
       "                function (dotnet) {\r\n",
       "                    dotnet.init(window);\r\n",
       "                },\r\n",
       "                function (error) {\r\n",
       "                    console.log(error);\r\n",
       "                }\r\n",
       "            );\r\n",
       "        })\r\n",
       "        .catch(error => {console.log(error);});\r\n",
       "    }\r\n",
       "\r\n",
       "// ensure `require` is available globally\r\n",
       "if ((typeof(require) !==  typeof(Function)) || (typeof(require.config) !== typeof(Function))) {\r\n",
       "    let require_script = document.createElement('script');\r\n",
       "    require_script.setAttribute('src', 'https://cdnjs.cloudflare.com/ajax/libs/require.js/2.3.6/require.min.js');\r\n",
       "    require_script.setAttribute('type', 'text/javascript');\r\n",
       "    \r\n",
       "    \r\n",
       "    require_script.onload = function() {\r\n",
       "        loadDotnetInteractiveApi();\r\n",
       "    };\r\n",
       "\r\n",
       "    document.getElementsByTagName('head')[0].appendChild(require_script);\r\n",
       "}\r\n",
       "else {\r\n",
       "    loadDotnetInteractiveApi();\r\n",
       "}\r\n",
       "\r\n",
       "    </script>\r\n",
       "</div>"
      ]
     },
     "metadata": {},
     "output_type": "display_data"
    }
   ],
   "source": [
    "int a = 2;\n",
    "int b = 3;\n",
    "double c = 4;\n",
    "double d = 5;"
   ]
  },
  {
   "cell_type": "markdown",
   "id": "849fcba6-39da-49a3-8204-728620b77321",
   "metadata": {},
   "source": [
    "# Original Values"
   ]
  },
  {
   "cell_type": "code",
   "execution_count": 2,
   "id": "bec5de05-4b7a-419b-9aa6-ce7146bf3d72",
   "metadata": {},
   "outputs": [
    {
     "name": "stdout",
     "output_type": "stream",
     "text": [
      "Original Values\n",
      "a = 2, b = 3, c = 4, and d = 5\n"
     ]
    }
   ],
   "source": [
    "Console.WriteLine(\"Original Values\");\n",
    "Console.WriteLine(\"a = \" + a + \", b = \" + b + \", c = \" + c + \", and d = \" + d);"
   ]
  },
  {
   "cell_type": "markdown",
   "id": "74832772-f0a0-41af-8f97-33de82bc9b76",
   "metadata": {},
   "source": [
    "# Integer Math"
   ]
  },
  {
   "cell_type": "code",
   "execution_count": 3,
   "id": "5d6b3ba7-4bc8-42e8-8c6b-983b5541c5d0",
   "metadata": {},
   "outputs": [
    {
     "name": "stdout",
     "output_type": "stream",
     "text": [
      "Integer Math\n",
      "a / b = 0\n",
      "b / a = 1\n",
      "a % b = 2\n",
      "b % a = 1\n"
     ]
    }
   ],
   "source": [
    "Console.WriteLine(\"Integer Math\");\n",
    "Console.WriteLine(\"a / b = \" + a / b);\n",
    "Console.WriteLine(\"b / a = \" + b / a);\n",
    "Console.WriteLine(\"a % b = \" + a % b);\n",
    "Console.WriteLine(\"b % a = \" + b % a);"
   ]
  },
  {
   "cell_type": "markdown",
   "id": "bfc98c61-435a-43f1-bc35-4f825cebd571",
   "metadata": {},
   "source": [
    "# Real Number Math"
   ]
  },
  {
   "cell_type": "code",
   "execution_count": 4,
   "id": "6ddf7828-6f02-495d-baf6-2cd82700dffe",
   "metadata": {},
   "outputs": [
    {
     "name": "stdout",
     "output_type": "stream",
     "text": [
      "Real Number Math\n",
      "a / d = 0.4\n",
      "c / d = 0.8\n",
      "d / b = 1.6666666666666667\n"
     ]
    }
   ],
   "source": [
    "Console.WriteLine(\"Real Number Math\");\n",
    "Console.WriteLine(\"a / d = \" + a / d);\n",
    "Console.WriteLine(\"c / d = \" + c / d);\n",
    "Console.WriteLine(\"d / b = \" + d / b);"
   ]
  },
  {
   "cell_type": "markdown",
   "id": "a55b3d9e-b153-4d3a-bac4-f9b8eccfe8dc",
   "metadata": {},
   "source": [
    "# Combined Operators"
   ]
  },
  {
   "cell_type": "code",
   "execution_count": 5,
   "id": "7e195643-0e72-478d-b3b3-c82c41c06bf5",
   "metadata": {},
   "outputs": [
    {
     "name": "stdout",
     "output_type": "stream",
     "text": [
      "a = a + 3: 5\n"
     ]
    }
   ],
   "source": [
    "a = a + 3;\n",
    "Console.WriteLine(\"a = a + 3: \" + a)"
   ]
  },
  {
   "cell_type": "code",
   "execution_count": 6,
   "id": "ad0475e9-fb49-46f7-920c-a5323e84b578",
   "metadata": {},
   "outputs": [
    {
     "name": "stdout",
     "output_type": "stream",
     "text": [
      "a += 3: 8\n"
     ]
    }
   ],
   "source": [
    "a += 3;\n",
    "Console.WriteLine(\"a += 3: \" + a)"
   ]
  },
  {
   "cell_type": "markdown",
   "id": "e7b5bb45-b82c-4b13-b8c5-046fc78e7aa4",
   "metadata": {},
   "source": [
    "# Same Operation, Different Syntax 👆\n",
    "* The two operations above have the same result but use different syntax.\n",
    "* We focus on readability in our code."
   ]
  },
  {
   "cell_type": "code",
   "execution_count": 7,
   "id": "f266065e-9463-46d0-beb4-c9b4030c6b2f",
   "metadata": {},
   "outputs": [
    {
     "name": "stdout",
     "output_type": "stream",
     "text": [
      "a -= b: 5\n"
     ]
    }
   ],
   "source": [
    "a -= b;\n",
    "Console.WriteLine(\"a -= b: \" + a)"
   ]
  },
  {
   "cell_type": "code",
   "execution_count": 8,
   "id": "5e051ca0-dc6d-4cb1-b8f7-584639489af0",
   "metadata": {},
   "outputs": [
    {
     "name": "stdout",
     "output_type": "stream",
     "text": [
      "d *= c: 5\n"
     ]
    }
   ],
   "source": [
    "d *= c;\n",
    "Console.WriteLine(\"d *= c: \" + a)"
   ]
  },
  {
   "cell_type": "code",
   "execution_count": 9,
   "id": "9ec57280-2670-4b17-bd6a-3e87213dd556",
   "metadata": {},
   "outputs": [
    {
     "name": "stdout",
     "output_type": "stream",
     "text": [
      "c /= d: 5\n"
     ]
    }
   ],
   "source": [
    "c /= d;\n",
    "Console.WriteLine(\"c /= d: \" + a)"
   ]
  },
  {
   "cell_type": "code",
   "execution_count": null,
   "id": "f994718b-f5a2-4f9d-a039-e88b24bc93fb",
   "metadata": {},
   "outputs": [],
   "source": []
  },
  {
   "cell_type": "code",
   "execution_count": null,
   "id": "2347ac89-27ad-4db8-89d9-3fbdc3874186",
   "metadata": {},
   "outputs": [],
   "source": []
  },
  {
   "cell_type": "code",
   "execution_count": null,
   "id": "6982711f-3baf-4516-b047-161c0397e32a",
   "metadata": {},
   "outputs": [],
   "source": []
  }
 ],
 "metadata": {
  "kernelspec": {
   "display_name": ".NET (C#)",
   "language": "C#",
   "name": ".net-csharp"
  },
  "language_info": {
   "file_extension": ".cs",
   "mimetype": "text/x-csharp",
   "name": "C#",
   "pygments_lexer": "csharp",
   "version": "9.0"
  }
 },
 "nbformat": 4,
 "nbformat_minor": 5
}
