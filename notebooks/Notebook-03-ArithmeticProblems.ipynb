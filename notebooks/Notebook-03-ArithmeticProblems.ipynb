{
 "cells": [
  {
   "cell_type": "markdown",
   "id": "6ba88354-2ebe-4daa-a1e8-2c0e45a975bd",
   "metadata": {},
   "source": [
    "# Question 1\n",
    "* Write a program that will prompt the user for three real numbers and computes their mean average. Display the average to the user."
   ]
  },
  {
   "cell_type": "code",
   "execution_count": 7,
   "id": "3a93c9ef-5ecd-49f0-a494-561cc776da0d",
   "metadata": {},
   "outputs": [
    {
     "name": "stdout",
     "output_type": "stream",
     "text": [
      "Please enter three numbers: (e.g. 84.5)\n",
      "The mean of your three numbers is 80.96666666666668\n"
     ]
    }
   ],
   "source": [
    "/*\n",
    "Input:  double realNumberOne, realNumberTwo, realNumberThree\n",
    "\n",
    "Output: double meanAverage\n",
    "\n",
    "Algorithm:  Prompt the user to enter three values and calculate\n",
    "            the mean of the three values. Output the result to\n",
    "            the user.\n",
    "\n",
    "Modified Date:  Oct. 2 2021\n",
    "*/\n",
    "\n",
    "double realNumberOne, realNumberTwo, realNumberThree;\n",
    "double meanAverage;\n",
    "\n",
    "Console.WriteLine(\"Please enter three numbers: (e.g. 84.5)\");\n",
    "/*\n",
    "realNumberOne = double.Parse(Console.ReadLine());\n",
    "realNumberTwo = double.Parse(Console.ReadLine());\n",
    "realNumberThree = double.Parse(Console.ReadLine());\n",
    "*/\n",
    "realNumberOne = 98.2;\n",
    "realNumberTwo = 78.9;\n",
    "realNumberThree = 65.8;\n",
    "\n",
    "meanAverage = (realNumberOne + realNumberTwo + realNumberThree) / 3;\n",
    "\n",
    "Console.WriteLine($\"The mean of your three numbers is \" +\n",
    "                  $\"{meanAverage}\");"
   ]
  },
  {
   "cell_type": "markdown",
   "id": "ac47d490-1244-484f-8da9-d55360f5a340",
   "metadata": {},
   "source": [
    "# Question 2\n",
    "* Using your knowledge of data types, modify the program you wrote for Question 1 so that it will round the mean average to two decimal places."
   ]
  },
  {
   "cell_type": "code",
   "execution_count": 6,
   "id": "2b7b5dcd-ef6a-4648-88ee-0233ea6753c9",
   "metadata": {},
   "outputs": [
    {
     "name": "stdout",
     "output_type": "stream",
     "text": [
      "The mean of your three numbers is 80.97\n"
     ]
    }
   ],
   "source": [
    "Console.WriteLine($\"The mean of your three numbers is \" +\n",
    "                  $\"{Math.Round(meanAverage, 2)}\");"
   ]
  },
  {
   "cell_type": "code",
   "execution_count": 8,
   "id": "7bdb3361-7ebc-4448-8362-28d3273b691a",
   "metadata": {},
   "outputs": [
    {
     "name": "stdout",
     "output_type": "stream",
     "text": [
      "The mean of your three numbers is 80.97\n"
     ]
    }
   ],
   "source": [
    "Console.WriteLine($\"The mean of your three numbers is \" +\n",
    "                  $\"{meanAverage:F2}\");"
   ]
  },
  {
   "cell_type": "markdown",
   "id": "d765b3b5-b40d-49c5-ba6d-c3cd1fcc5958",
   "metadata": {},
   "source": [
    "# Question 3\n",
    "* The Pythagorean Theorem can be used to find the length of the hypotenuse (c) of a right triangle. Write a program that can solve for the hypotenuse once provided with the height (a) and base (b) of the right triangle. Use the following information:\n",
    "\n",
    "![Pythagorean Theorem](https://miro.medium.com/max/923/1*SsN2DG__Z5DyOI0uf7hbwQ.png)"
   ]
  },
  {
   "cell_type": "code",
   "execution_count": 9,
   "id": "8e2030f7-2848-4c70-af8e-38628d7cd01e",
   "metadata": {},
   "outputs": [
    {
     "name": "stdout",
     "output_type": "stream",
     "text": [
      "The hypotenuse of the triangle is 13.39\n"
     ]
    }
   ],
   "source": [
    "/*\n",
    "Input:  double heightTriangle, baseTriangle\n",
    "\n",
    "Output: double hypotenuse\n",
    "\n",
    "Algorithm:  Prompt the user to enter the height and base of a right\n",
    "            angle triangle. Calculate the hypotenuse using\n",
    "            pythagorean theorem and output the result to the user.\n",
    "\n",
    "Modified Date:  Oct. 2 2021\n",
    "*/\n",
    "\n",
    "double heightTriangle, baseTriangle;\n",
    "double hypotenuse;\n",
    "\n",
    "/*\n",
    "Console.WriteLine(\"Please enter the height of the triangle:\");\n",
    "heightTriangle = double.Parse(Console.ReadLine());\n",
    "Console.WriteLine(\"Please enter the base of the triangle:\");\n",
    "baseTriangle = double.Parse(Console.ReadLine());\n",
    "*/\n",
    "\n",
    "heightTriangle = 12.3;\n",
    "baseTriangle = 5.3;\n",
    "\n",
    "hypotenuse = Math.Sqrt(Math.Pow(heightTriangle, 2) +\n",
    "                Math.Pow(baseTriangle, 2));\n",
    "\n",
    "Console.WriteLine($\"The hypotenuse of the triangle is \" +\n",
    "                  $\"{hypotenuse:F2}\");"
   ]
  },
  {
   "cell_type": "markdown",
   "id": "213bc194-9206-4a28-b640-587188e7e7be",
   "metadata": {},
   "source": [
    "# Question 4\n",
    "* Write a program that will prompt the user for a three-digit whole number. The program will then calculate the sum of the digits of the number, and then display both the number and its digit sum. (i.e. 123 -> sum = 6)"
   ]
  },
  {
   "cell_type": "code",
   "execution_count": 11,
   "id": "c9b9d60e-8fbd-422b-b6d1-d16ad4db1343",
   "metadata": {},
   "outputs": [
    {
     "name": "stdout",
     "output_type": "stream",
     "text": [
      "The sum of your three digits (658) is 8 + 5 + 6 = 19\n"
     ]
    }
   ],
   "source": [
    "/*\n",
    "Input:  int threeDigits\n",
    "\n",
    "Output: int sum\n",
    "\n",
    "Algorithm:  Prompt the user to enter a three digit whole number.\n",
    "            Use modulus operations to parse the number into the ones,\n",
    "            tens, and hundreds components. Then divide appropriately\n",
    "            to gain the sum of the individual digits.\n",
    "\n",
    "Modified Date:  Oct. 2 2021\n",
    "*/\n",
    "\n",
    "/*\n",
    "Console.WriteLine(\"Please enter a three digit whole number (e.g. 123)\");\n",
    "threeDigits = int.Parse(Console.ReadLine());\n",
    "*/\n",
    "\n",
    "int threeDigits = 658;\n",
    "\n",
    "int onesPlace = threeDigits % 10;\n",
    "int tensPlace = threeDigits % 100 - onesPlace;\n",
    "int hundredsPlace = threeDigits - tensPlace - onesPlace;\n",
    "int sum = onesPlace + tensPlace / 10 + hundredsPlace / 100;\n",
    "\n",
    "Console.WriteLine($\"The sum of your three digits ({threeDigits}) \" +\n",
    "    $\"is {onesPlace} + {tensPlace / 10 } + {hundredsPlace / 100} = \" +\n",
    "    $\"{sum}\");"
   ]
  }
 ],
 "metadata": {
  "kernelspec": {
   "display_name": ".NET (C#)",
   "language": "C#",
   "name": ".net-csharp"
  },
  "language_info": {
   "file_extension": ".cs",
   "mimetype": "text/x-csharp",
   "name": "C#",
   "pygments_lexer": "csharp",
   "version": "9.0"
  }
 },
 "nbformat": 4,
 "nbformat_minor": 5
}
