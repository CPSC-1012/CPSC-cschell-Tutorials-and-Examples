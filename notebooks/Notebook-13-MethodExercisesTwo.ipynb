{
 "cells": [
  {
   "cell_type": "markdown",
   "id": "bccb349c-390f-4502-86ff-8fff6b81f0e3",
   "metadata": {},
   "source": [
    "# Question 1"
   ]
  },
  {
   "cell_type": "code",
   "execution_count": null,
   "id": "a038cc71-4824-4aa0-a924-4ccb203b1b3c",
   "metadata": {},
   "outputs": [],
   "source": [
    "static string GetString(string prompt)\n",
    "{\n",
    "    Console.Write($\"Please enter {prompt}: \");\n",
    "    string userInput = Console.ReadLine();\n",
    "    return userInput;\n",
    "} // end of method"
   ]
  },
  {
   "cell_type": "markdown",
   "id": "6f927cc1-9c53-4af4-be69-fe39d9a28082",
   "metadata": {},
   "source": [
    "# Question 1 - Extended"
   ]
  },
  {
   "cell_type": "code",
   "execution_count": null,
   "id": "ab1bb206-db49-45b1-b30c-28abab28fc37",
   "metadata": {},
   "outputs": [],
   "source": [
    "static string GetStringLengthTen()\n",
    "{\n",
    "    string userInput;\n",
    "\n",
    "    userInput = Console.ReadLine();\n",
    "\n",
    "    while(userInput.Length > 10)\n",
    "    {\n",
    "        Console.WriteLine(\"That string is too long: \");\n",
    "        userInput = Console.ReadLine();\n",
    "    } // end of while\n",
    "\n",
    "    return userInput;\n",
    "} //  end of method"
   ]
  },
  {
   "cell_type": "markdown",
   "id": "749f1646-73ef-4fd5-bafa-6f1e4235bc9a",
   "metadata": {},
   "source": [
    "# Question 2"
   ]
  },
  {
   "cell_type": "code",
   "execution_count": null,
   "id": "74c4e324-39f0-4dfe-8019-b21fd579efd4",
   "metadata": {},
   "outputs": [],
   "source": [
    "public static int GetPositiveInt(string prompt)\n",
    "{\n",
    "    int number;\n",
    "    Console.Write($\"Enter number of {prompt}: \");\n",
    "\n",
    "    while(!int.TryParse(Console.ReadLine(), out number) || number < 0)\n",
    "    {\n",
    "        Console.Write($\"Enter a positive number of {prompt}: \");\n",
    "    } // end of while\n",
    "\n",
    "    return number;\n",
    "} // end of method"
   ]
  },
  {
   "cell_type": "markdown",
   "id": "3173ef6d-e0b4-4d77-b274-2f3b1006aa8e",
   "metadata": {},
   "source": [
    "# Question 3\n",
    "* See `Notebook-12-MethodExercisesOne.ipynb` **Question 1**"
   ]
  }
 ],
 "metadata": {
  "kernelspec": {
   "display_name": ".NET (C#)",
   "language": "C#",
   "name": ".net-csharp"
  },
  "language_info": {
   "file_extension": ".cs",
   "mimetype": "text/x-csharp",
   "name": "C#",
   "pygments_lexer": "csharp",
   "version": "9.0"
  }
 },
 "nbformat": 4,
 "nbformat_minor": 5
}
